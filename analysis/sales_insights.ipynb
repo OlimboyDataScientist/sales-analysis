{
 "cells": [
  {
   "cell_type": "code",
   "execution_count": null,
   "id": "f916354c",
   "metadata": {
    "notebookRunGroups": {
     "groupValue": "1"
    }
   },
   "outputs": [],
   "source": [
    "import pandas as pd\n",
    "df = pd.read_csv(r\"D:\\python\\python files\\sales-analysis\\data\\superstore_sales.csv\")"
   ]
  },
  {
   "cell_type": "code",
   "execution_count": 11,
   "id": "f95f0759",
   "metadata": {},
   "outputs": [
    {
     "data": {
      "text/html": [
       "<div>\n",
       "<style scoped>\n",
       "    .dataframe tbody tr th:only-of-type {\n",
       "        vertical-align: middle;\n",
       "    }\n",
       "\n",
       "    .dataframe tbody tr th {\n",
       "        vertical-align: top;\n",
       "    }\n",
       "\n",
       "    .dataframe thead th {\n",
       "        text-align: right;\n",
       "    }\n",
       "</style>\n",
       "<table border=\"1\" class=\"dataframe\">\n",
       "  <thead>\n",
       "    <tr style=\"text-align: right;\">\n",
       "      <th></th>\n",
       "      <th>Order ID</th>\n",
       "      <th>Order Date</th>\n",
       "      <th>Region</th>\n",
       "      <th>Customer Name</th>\n",
       "      <th>Product Category</th>\n",
       "      <th>Sub-category</th>\n",
       "      <th>Sales</th>\n",
       "      <th>Quantity</th>\n",
       "      <th>Discount</th>\n",
       "      <th>Profit</th>\n",
       "    </tr>\n",
       "  </thead>\n",
       "  <tbody>\n",
       "    <tr>\n",
       "      <th>1070</th>\n",
       "      <td>ORD-2070</td>\n",
       "      <td>2025-03-11</td>\n",
       "      <td>South</td>\n",
       "      <td>Christopher Ryan</td>\n",
       "      <td>Technology</td>\n",
       "      <td>Copiers</td>\n",
       "      <td>36.54</td>\n",
       "      <td>6</td>\n",
       "      <td>0.2</td>\n",
       "      <td>5.36</td>\n",
       "    </tr>\n",
       "    <tr>\n",
       "      <th>1876</th>\n",
       "      <td>ORD-2876</td>\n",
       "      <td>2023-06-19</td>\n",
       "      <td>South</td>\n",
       "      <td>Jeffrey Franklin</td>\n",
       "      <td>Office Supplies</td>\n",
       "      <td>Binders</td>\n",
       "      <td>1084.60</td>\n",
       "      <td>3</td>\n",
       "      <td>0.1</td>\n",
       "      <td>208.61</td>\n",
       "    </tr>\n",
       "    <tr>\n",
       "      <th>1556</th>\n",
       "      <td>ORD-2556</td>\n",
       "      <td>2023-09-20</td>\n",
       "      <td>Central</td>\n",
       "      <td>Emma Mccarty</td>\n",
       "      <td>Furniture</td>\n",
       "      <td>Bookcases</td>\n",
       "      <td>1056.02</td>\n",
       "      <td>1</td>\n",
       "      <td>0.2</td>\n",
       "      <td>63.79</td>\n",
       "    </tr>\n",
       "    <tr>\n",
       "      <th>4354</th>\n",
       "      <td>ORD-5354</td>\n",
       "      <td>2024-12-02</td>\n",
       "      <td>West</td>\n",
       "      <td>Carl Gibson</td>\n",
       "      <td>Office Supplies</td>\n",
       "      <td>Binders</td>\n",
       "      <td>731.75</td>\n",
       "      <td>1</td>\n",
       "      <td>0.0</td>\n",
       "      <td>58.75</td>\n",
       "    </tr>\n",
       "    <tr>\n",
       "      <th>4041</th>\n",
       "      <td>ORD-5041</td>\n",
       "      <td>2023-05-17</td>\n",
       "      <td>South</td>\n",
       "      <td>William Hernandez</td>\n",
       "      <td>Office Supplies</td>\n",
       "      <td>Storage</td>\n",
       "      <td>842.40</td>\n",
       "      <td>5</td>\n",
       "      <td>0.0</td>\n",
       "      <td>181.45</td>\n",
       "    </tr>\n",
       "  </tbody>\n",
       "</table>\n",
       "</div>"
      ],
      "text/plain": [
       "      Order ID  Order Date   Region      Customer Name Product Category  \\\n",
       "1070  ORD-2070  2025-03-11    South   Christopher Ryan       Technology   \n",
       "1876  ORD-2876  2023-06-19    South   Jeffrey Franklin  Office Supplies   \n",
       "1556  ORD-2556  2023-09-20  Central       Emma Mccarty        Furniture   \n",
       "4354  ORD-5354  2024-12-02     West        Carl Gibson  Office Supplies   \n",
       "4041  ORD-5041  2023-05-17    South  William Hernandez  Office Supplies   \n",
       "\n",
       "     Sub-category    Sales  Quantity  Discount  Profit  \n",
       "1070      Copiers    36.54         6       0.2    5.36  \n",
       "1876      Binders  1084.60         3       0.1  208.61  \n",
       "1556    Bookcases  1056.02         1       0.2   63.79  \n",
       "4354      Binders   731.75         1       0.0   58.75  \n",
       "4041      Storage   842.40         5       0.0  181.45  "
      ]
     },
     "execution_count": 11,
     "metadata": {},
     "output_type": "execute_result"
    }
   ],
   "source": [
    "df.sample(5)"
   ]
  },
  {
   "cell_type": "code",
   "execution_count": 19,
   "id": "7b5d027b",
   "metadata": {},
   "outputs": [
    {
     "name": "stdout",
     "output_type": "stream",
     "text": [
      "Most profitable month: 2024-10, Profit: 25867.93\n"
     ]
    }
   ],
   "source": [
    "#profitable customers\n",
    "df['Order Date'] = pd.to_datetime(df['Order Date'])\n",
    "df['Year-Month'] = df['Order Date'].dt.to_period('M')\n",
    "new_df = df.groupby('Year-Month')['Profit'].sum().to_frame(name = 'Monthly Profit').sort_index()\n",
    "most_profitable_month = new_df['Monthly Profit'].idxmax()\n",
    "most_profit = new_df['Monthly Profit'].max()\n",
    "print(f\"Most profitable month: {most_profitable_month}, Profit: {most_profit}\")\n"
   ]
  }
 ],
 "metadata": {
  "kernelspec": {
   "display_name": "Python 3",
   "language": "python",
   "name": "python3"
  },
  "language_info": {
   "codemirror_mode": {
    "name": "ipython",
    "version": 3
   },
   "file_extension": ".py",
   "mimetype": "text/x-python",
   "name": "python",
   "nbconvert_exporter": "python",
   "pygments_lexer": "ipython3",
   "version": "3.13.3"
  }
 },
 "nbformat": 4,
 "nbformat_minor": 5
}
